{
 "cells": [
  {
   "cell_type": "code",
   "execution_count": 5,
   "metadata": {},
   "outputs": [
    {
     "name": "stdout",
     "output_type": "stream",
     "text": [
      "[2 8 9 ... 7 6 9]\n",
      "(2000,)\n",
      "0.8485\n"
     ]
    },
    {
     "data": {
      "image/png": "[encoded data removed]",
      "text/plain": [
       "<Figure size 432x288 with 1 Axes>"
      ]
     },
     "metadata": {},
     "output_type": "display_data"
    }
   ],
   "source": [
    "from sklearn.tree import DecisionTreeClassifier\n",
    "import numpy as ny\n",
    "import matplotlib.pyplot as py\n",
    "import pandas as pd\n",
    "\n",
    "data= pd.read_csv(\"/home/inferni/Downloads/train.csv\").values\n",
    "#print(data)\n",
    "train_data=data[0:40000,1:]\n",
    "train_target=data[0:40000,0]\n",
    "\n",
    "test_data=data[40000:,1:]\n",
    "test_target=data[40000:,0]\n",
    "\n",
    "clf=DecisionTreeClassifier()\n",
    "trained=clf.fit(train_data,train_target)\n",
    "\n",
    "predicted=trained.predict(test_data)\n",
    "print(predicted)\n",
    "print(predicted.shape)\n",
    "\n",
    "from sklearn.metrics import accuracy_score\n",
    "accuracy=accuracy_score(predicted,test_target)\n",
    "print(accuracy)\n",
    "\n",
    "py.bar(predicted,test_target,color='green')\n",
    "py.grid(color='grey')\n",
    "py.show()\n",
    "    "
   ]
  },
  {
   "cell_type": "code",
   "execution_count": null,
   "metadata": {},
   "outputs": [],
   "source": []
  },
  {
   "cell_type": "code",
   "execution_count": null,
   "metadata": {},
   "outputs": [],
   "source": []
  }
 ],
 "metadata": {
  "kernelspec": {
   "display_name": "Python 3",
   "language": "python",
   "name": "python3"
  },
  "language_info": {
   "codemirror_mode": {
    "name": "ipython",
    "version": 3
   },
   "file_extension": ".py",
   "mimetype": "text/x-python",
   "name": "python",
   "nbconvert_exporter": "python",
   "pygments_lexer": "ipython3",
   "version": "3.6.5"
  }
 },
 "nbformat": 4,
 "nbformat_minor": 2
}
