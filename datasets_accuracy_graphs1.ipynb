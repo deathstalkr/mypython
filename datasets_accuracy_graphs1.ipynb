{
 "cells": [
  {
   "cell_type": "code",
   "execution_count": 1,
   "metadata": {},
   "outputs": [],
   "source": [
    "from  sklearn  import  tree\n",
    "from sklearn.neighbors import KNeighborsClassifier\n",
    "from sklearn.metrics import accuracy_score\n",
    "from  sklearn  import  tree\n",
    "import numpy as ny\n",
    "from   sklearn.model_selection  import  train_test_split\n",
    "import matplotlib.pyplot as py  \n",
    "from sklearn.svm import SVC"
   ]
  },
  {
   "cell_type": "code",
   "execution_count": 7,
   "metadata": {},
   "outputs": [
    {
     "name": "stdout",
     "output_type": "stream",
     "text": [
      "[0 0 0 0 1 0 2 0 0 1 1 1 0 0 1]\n",
      "accuracy: 0.9333333333333333\n",
      "[0 0 0 0 1 0 2 0 0 1 1 1 0 0 1]\n",
      "accuracy: 0.9333333333333333\n",
      "[0 0 0 0 1 0 2 0 0 1 2 1 0 0 1]\n",
      "accuracy: 1.0\n"
     ]
    },
    {
     "data": {
      "image/png": "[encoded data removed]",
      "text/plain": [
       "<Figure size 432x288 with 1 Axes>"
      ]
     },
     "metadata": {},
     "output_type": "display_data"
    }
   ],
   "source": [
    "from sklearn.datasets  import load_iris\n",
    "\n",
    "#loading iris\n",
    "iris=load_iris()\n",
    "\n",
    "train_data,test_data,train_target,test_target=train_test_split(iris.data,iris.target,test_size=0.1)\n",
    "\n",
    "#  calling  decisiontree\n",
    "clf=tree.DecisionTreeClassifier()\n",
    "trained=clf.fit(train_data,train_target)\n",
    "\n",
    "#calling knn\n",
    "clfknn=KNeighborsClassifier(n_neighbors=3)\n",
    "trained1=clfknn.fit(train_data,train_target)\n",
    "\n",
    "#calling SVC\n",
    "clfsvc=SVC()\n",
    "trained2=clfsvc.fit(train_data,train_target)\n",
    "\n",
    "#  testing with decision tree\n",
    "predict=trained.predict(test_data)\n",
    "print(predict)\n",
    "#print(test_target)\n",
    "\n",
    "# accuracy test for dsct\n",
    "pct=accuracy_score(test_target,predict)\n",
    "print('accuracy:',pct)\n",
    "\n",
    "#testing with knn\n",
    "predict1=trained1.predict(test_data)\n",
    "print(predict1)\n",
    "\n",
    "#accuracy test for knn\n",
    "acc=accuracy_score(test_target,predict1)\n",
    "print('accuracy:',acc)\n",
    "\n",
    "#testing with SVC\n",
    "predict2=trained2.predict(test_data)\n",
    "print(predict2)\n",
    "\n",
    "#accuracy test for SVC\n",
    "acc1=accuracy_score(test_target,predict2)\n",
    "print('accuracy:',acc1)\n",
    "\n",
    "#to load structure of decisionTree\n",
    "tree.export_graphviz(clf, out_file=\"tree.dot\", max_depth=7, feature_names=iris.feature_names, class_names=iris.target_names, filled=True,rounded=True)\n",
    "\n",
    "#plotting graph\n",
    "py.xlabel('Algorithms')\n",
    "py.ylabel('Percentage')\n",
    "algo=['DsT','KNN','SVC']\n",
    "accuracy_percent=[pct,acc,acc1]\n",
    "py.bar(algo,accuracy_percent,color='b')\n",
    "py.show()"
   ]
  },
  {
   "cell_type": "code",
   "execution_count": 8,
   "metadata": {},
   "outputs": [
    {
     "name": "stdout",
     "output_type": "stream",
     "text": [
      "[0 1 1 1 1 1 1 1 0 1 1 1 1 1 1 1 1 0 0 1 0 0 1 0 1 1 0 1 0 0 0 1 1 1 0 1 1\n",
      " 1 1 0 0 1 1 1 1 0 0 1 0 1 0 0 0 1 1 1 1]\n",
      "accuracy: 0.8947368421052632\n",
      "[0 1 1 1 1 1 1 1 0 1 1 1 0 1 1 1 1 0 1 1 1 0 1 0 1 1 0 1 1 0 0 1 1 1 0 1 0\n",
      " 1 1 0 0 1 1 1 1 0 0 1 0 1 0 0 0 0 1 1 1]\n",
      "accuracy: 0.8596491228070176\n",
      "[1 1 1 1 1 1 1 1 1 1 1 1 1 1 1 1 1 1 1 1 1 1 1 1 1 1 1 1 1 1 1 1 1 1 1 1 1\n",
      " 1 1 1 1 1 1 1 1 1 1 1 1 1 1 1 1 1 1 1 1]\n",
      "accuracy: 0.5789473684210527\n"
     ]
    },
    {
     "data": {
      "image/png": "[encoded data removed]",
      "text/plain": [
       "<Figure size 432x288 with 1 Axes>"
      ]
     },
     "metadata": {},
     "output_type": "display_data"
    }
   ],
   "source": [
    "from sklearn.datasets import load_breast_cancer\n",
    "\n",
    "cancer=load_breast_cancer()\n",
    "#splitting data\n",
    "x_train,x_test,y_train,y_test=train_test_split(cancer.data,cancer.target,test_size=0.1)\n",
    "\n",
    "#training data using Decisiontree\n",
    "dsc=tree.DecisionTreeClassifier()\n",
    "traineddsc=dsc.fit(x_train,y_train)\n",
    "\n",
    "#training data using knn\n",
    "knn =KNeighborsClassifier(n_neighbors=3)\n",
    "trainedknn=knn.fit(x_train,y_train)\n",
    "\n",
    "#training data using SVC\n",
    "svc=SVC()\n",
    "trainedsvc=svc.fit(x_train,y_train)\n",
    "\n",
    "#testing with Decisiontree\n",
    "output1=traineddsc.predict(x_test)\n",
    "print(output1)\n",
    "\n",
    "#accuracy with Decisiontree\n",
    "acc1=accuracy_score(output1,y_test)\n",
    "print('accuracy:',acc1)\n",
    "\n",
    "#testing with knn\n",
    "output=trainedknn.predict(x_test)\n",
    "print(output)\n",
    "\n",
    "#accuracy with Knn\n",
    "acc=accuracy_score(output,y_test)\n",
    "print('accuracy:',acc)\n",
    "\n",
    "#testing with SVC\n",
    "output2=trainedsvc.predict(x_test)\n",
    "print(output2)\n",
    "\n",
    "#accuracy with SVC\n",
    "acc2=accuracy_score(output2,y_test)\n",
    "print('accuracy:',acc2)\n",
    "\n",
    "#plotting graph\n",
    "py.xlabel('Algorithms')\n",
    "py.ylabel('Percentage')\n",
    "algo=['DsT','KNN','SVC']\n",
    "accuracy_percent=[acc1,acc,acc2]\n",
    "py.bar(algo,accuracy_percent,color='b')\n",
    "py.show()"
   ]
  },
  {
   "cell_type": "code",
   "execution_count": 9,
   "metadata": {},
   "outputs": [
    {
     "name": "stdout",
     "output_type": "stream",
     "text": [
      "[5]\n",
      "accuracy: 1.0\n",
      "[5]\n",
      "accuracy: 1.0\n",
      "[5]\n",
      "accuracy: 1.0\n"
     ]
    },
    {
     "data": {
      "image/png": "[encoded data removed]",
      "text/plain": [
       "<Figure size 432x288 with 1 Axes>"
      ]
     },
     "metadata": {},
     "output_type": "display_data"
    },
    {
     "data": {
      "image/png": "[encoded data removed]",
      "text/plain": [
       "<Figure size 432x288 with 1 Axes>"
      ]
     },
     "metadata": {},
     "output_type": "display_data"
    }
   ],
   "source": [
    "from sklearn.datasets  import load_digits\n",
    "\n",
    "digits=load_digits()\n",
    "\n",
    "#splitting data\n",
    "\n",
    "train_data=ny.delete(digits.data,-1,axis=0)\n",
    "train_target=ny.delete(digits.target,-1)\n",
    "test_target=(digits.target[-10].reshape(1,))  #print(test_target.shape)\n",
    "\n",
    "#training data using support vector\n",
    "clf=SVC()\n",
    "trained=clf.fit(train_data,train_target)\n",
    "\n",
    "#training data using decision tree\n",
    "clf1=tree.DecisionTreeClassifier()\n",
    "trained1=clf1.fit(train_data,train_target)\n",
    "\n",
    "#training using knn\n",
    "clf2=KNeighborsClassifier(n_neighbors=3)\n",
    "trained2=clf2.fit(train_data,train_target)\n",
    "\n",
    "#testing for SVC\n",
    "output=trained.predict(digits.data[-10].reshape(1,64))\n",
    "print(output)\n",
    "\n",
    "#accuracy test for SVC\n",
    "acc=accuracy_score(output,test_target)\n",
    "print('accuracy:',acc)\n",
    "\n",
    "#testing decision tree data\n",
    "output1=trained1.predict(digits.data[-10].reshape(1,64))\n",
    "print(output1)\n",
    "\n",
    "#accuracy test for decision tree\n",
    "acc1=accuracy_score(output1,test_target)\n",
    "print('accuracy:',acc1)\n",
    "\n",
    "#testing knn\n",
    "output2=trained2.predict(digits.data[-10].reshape(1,64))\n",
    "print(output2)\n",
    "\n",
    "#accuracy test for knn\n",
    "acc2=accuracy_score(output2,test_target)\n",
    "print('accuracy:',acc2)\n",
    "\n",
    "#actual output in image\n",
    "py.imshow(digits.images[-10])\n",
    "py.show()\n",
    "\n",
    "#plotting graph\n",
    "py.xlabel('Algorithms')\n",
    "py.ylabel('Percentage')\n",
    "algo=['DsT','KNN','SVC']\n",
    "accuracy_percent=[acc1,acc2,acc]\n",
    "py.bar(algo,accuracy_percent,color='b')\n",
    "py.show()"
   ]
  },
  {
   "cell_type": "code",
   "execution_count": 10,
   "metadata": {},
   "outputs": [
    {
     "name": "stdout",
     "output_type": "stream",
     "text": [
      "[ 68. 275. 154.  47.  84. 275. 222. 170.  97. 262.  55. 104. 214.  85.\n",
      " 177.  52. 232.  66.  94.  51. 220.  94. 122.  70.  96. 120. 152. 109.\n",
      " 144. 209. 220. 230.  94. 104. 109. 104. 179. 185.  85. 277. 107.  98.\n",
      " 126. 109. 229. 107. 272. 144. 143. 258. 212. 160. 265. 104. 120.  90.\n",
      " 109. 195.  53.  85. 220. 144.  64.  80.  90. 209.  52. 150. 201. 195.\n",
      " 220. 198.  84.  43.  53.  66.  68.  64. 265. 143. 195.  97. 113.  96.\n",
      " 225. 143. 168. 248. 162. 109.  96. 220.  44.  64.  55.  94.  53. 195.\n",
      "  85. 243. 132. 220. 209. 293. 279.  84.  47. 222. 187.  96. 174. 243.\n",
      " 132. 283. 263.  52.  89. 199. 131. 146. 152.  81.  43.  44.  51. 244.\n",
      " 142. 168.  55.  90. 219.  59. 195. 222. 265.  88.  66. 248. 220.  64.\n",
      "  55. 185.  51.  78. 113. 293.  78.  66. 214. 154. 209. 220.  90. 214.\n",
      " 129. 109. 137. 220. 137. 220. 275. 179. 336. 107. 220. 170.  42. 131.\n",
      "  63. 275. 257. 138. 248. 102.  94.  70.  52. 275. 232. 232.  55. 107.\n",
      " 214. 185. 185. 127. 321. 164.  88.  49. 197. 152. 162. 174.  66.  96.\n",
      " 109. 168. 199. 155.  90. 222.  66. 183.  98.  42. 156. 110.  98.  81.\n",
      " 150. 220.  96.  55. 258. 262. 265.  85.  44. 120.  99.]\n",
      "accuracy: 0.004524886877828055\n",
      "[103. 109. 129.  44.  90. 220.  84. 170.  64. 150.  64.  60.  81. 109.\n",
      " 164.  85. 129.  44.  67.  42. 151. 107. 173.  72.  75.  91.  59. 237.\n",
      " 132. 128. 230. 179.  51.  60.  60.  65.  51.  53.  78. 122.  51.  37.\n",
      " 137. 263. 151. 151.  94. 107. 111.  78. 173.  53. 109.  94. 120.  90.\n",
      " 275.  48.  51.  31. 264.  97.  44.  81.  48. 171.  31. 150.  39.  48.\n",
      " 220.  95.  81.  43.  81.  42.  68.  59. 197. 164. 191. 125.  60.  81.\n",
      " 127. 173.  42. 249.  77. 263.  66. 222.  60.  59.  43. 107.  75. 173.\n",
      " 121. 263.  88. 100.  51.  97. 242.  39.  47.  67.  88.  39.  91. 174.\n",
      " 129.  67.  99.  31.  31. 121. 104.  65. 142.  42.  43.  65. 146. 145.\n",
      "  37. 111.  43.  73.  66.  59. 167. 131. 109.  64.  42. 173. 100.  88.\n",
      "  70. 100.  42.  52. 104.  97.  53.  42. 107. 153.  90. 235.  78.  39.\n",
      "  81. 167.  99. 150.  48. 219. 109.  81. 151.  51. 243.  67.  64. 164.\n",
      "  48. 275.  68.  59. 131.  64. 107.  51.  31. 107. 232.  85.  43.  67.\n",
      " 151.  44.  42. 127. 175.  42.  37.  60.  73. 142.  55. 198.  44.  51.\n",
      "  70.  88.  83.  84.  80.  84.  44. 151.  64.  42. 124. 154.  88. 150.\n",
      " 246.  67.  98.  59. 275.  52. 129. 141.  88. 120.  39.]\n",
      "accuracy: 0.0\n",
      "[200. 275. 275.  88. 275. 275. 220.  84. 214. 275. 200.  84. 275. 200.\n",
      " 275.  85. 275.  88.  88.  94. 214.  94. 275.  51.  90.  84.  85. 275.\n",
      " 275. 214. 275. 275. 214.  51.  90.  94. 214.  51.  85. 275. 275.  90.\n",
      " 220. 275. 214. 200. 275. 275.  84.  85. 275. 214. 275.  84. 275. 275.\n",
      " 275.  90.  51.  85. 275.  85. 200. 275.  90. 275.  85. 275.  51.  90.\n",
      " 275.  84.  90.  85.  90.  51. 200.  90. 275.  84. 200.  51. 200.  90.\n",
      " 275. 275. 200. 220.  85. 275.  90. 275.  84.  85.  51.  94.  51. 275.\n",
      " 200. 275.  88. 220.  84. 200. 275.  90.  88. 220.  85.  84. 275. 275.\n",
      " 275. 275. 275.  90.  90.  85.  90. 200.  85. 275.  85. 200. 200.  88.\n",
      "  51.  90.  51.  84.  88.  85. 275. 220. 200.  85.  88. 220. 220.  85.\n",
      "  88. 220.  94. 275. 200. 200.  84.  88. 275. 214. 214. 275.  84.  90.\n",
      " 275. 275.  85. 275.  85. 220. 200. 275. 275. 275. 220.  85.  85. 220.\n",
      "  51. 275. 214.  85. 220. 214.  94. 214.  85. 275. 275. 200.  94. 214.\n",
      " 214.  51.  94. 275. 200. 275.  85.  94.  90.  85.  51. 275.  88. 214.\n",
      "  90.  90.  88.  90.  84. 275.  88. 214.  90.  94. 275. 200.  90. 275.\n",
      " 275. 275.  90.  85. 275. 200. 275. 275.  90. 275.  51.]\n",
      "accuracy: 0.00904977375565611\n"
     ]
    },
    {
     "data": {
      "image/png": "[encoded data removed]",
      "text/plain": [
       "<Figure size 432x288 with 1 Axes>"
      ]
     },
     "metadata": {},
     "output_type": "display_data"
    }
   ],
   "source": [
    "from sklearn.datasets import load_diabetes\n",
    "\n",
    "diabetes=load_diabetes()\n",
    "#print(dir(load_diabetes()))\n",
    "#print(diabetes.data)\n",
    "#print(diabetes.)\n",
    "\n",
    "x_train,x_test,y_train,y_test=train_test_split(diabetes.data,diabetes.target,test_size=0.5)\n",
    "\n",
    "#training data using Decisiontree\n",
    "dsc=tree.DecisionTreeClassifier()\n",
    "traineddsc=dsc.fit(x_train,y_train)\n",
    "\n",
    "#training data using knn\n",
    "knn =KNeighborsClassifier(n_neighbors=3)\n",
    "trainedknn=knn.fit(x_train,y_train)\n",
    "\n",
    "#training data using SVC\n",
    "svc=SVC()\n",
    "trainedsvc=svc.fit(x_train,y_train)\n",
    "\n",
    "#testing with Decisiontree\n",
    "output1=traineddsc.predict(x_test)\n",
    "print(output1)\n",
    "\n",
    "#accuracy with Decisiontree\n",
    "acc1=accuracy_score(output1,y_test)\n",
    "print('accuracy:',acc1)\n",
    "\n",
    "#testing with knn\n",
    "output=trainedknn.predict(x_test)\n",
    "print(output)\n",
    "\n",
    "#accuracy with Knn\n",
    "acc=accuracy_score(output,y_test)\n",
    "print('accuracy:',acc)\n",
    "\n",
    "#testing with SVC\n",
    "output2=trainedsvc.predict(x_test)\n",
    "print(output2)\n",
    "\n",
    "#accuracy with SVC\n",
    "acc2=accuracy_score(output2,y_test)\n",
    "print('accuracy:',acc2)\n",
    "\n",
    "#plotting graph\n",
    "py.xlabel('Algorithms')\n",
    "py.ylabel('Percentage')\n",
    "algo=['DsT','KNN','SVC']\n",
    "accuracy_percent=[acc1,acc,acc2]\n",
    "py.bar(algo,accuracy_percent,color='b')\n",
    "py.show()"
   ]
  },
  {
   "cell_type": "code",
   "execution_count": 11,
   "metadata": {},
   "outputs": [
    {
     "name": "stdout",
     "output_type": "stream",
     "text": [
      "[1 0 1 2 1 0 2 1 0 0 0 2 2 1 0 2 0 1]\n",
      "accuracy: 0.9444444444444444\n",
      "[1 0 2 2 1 0 2 1 0 0 0 2 2 1 0 1 0 0]\n",
      "accuracy: 0.8333333333333334\n",
      "[1 0 1 1 1 1 1 1 1 1 1 1 1 1 1 1 1 1]\n",
      "accuracy: 0.3333333333333333\n"
     ]
    },
    {
     "data": {
      "image/png": "[encoded data removed]",
      "text/plain": [
       "<Figure size 432x288 with 1 Axes>"
      ]
     },
     "metadata": {},
     "output_type": "display_data"
    }
   ],
   "source": [
    "from sklearn.datasets import load_wine\n",
    "\n",
    "wine=load_wine()\n",
    "#print(dir(load_wine()))\n",
    "#print(wine.target_names)\n",
    "\n",
    "#splitting data\n",
    "x_train,x_test,y_train,y_test=train_test_split(wine.data,wine.target,test_size=0.1)\n",
    "\n",
    "#training data using Decisiontree\n",
    "dsc=tree.DecisionTreeClassifier()\n",
    "traineddsc=dsc.fit(x_train,y_train)\n",
    "\n",
    "#training data using knn\n",
    "knn =KNeighborsClassifier(n_neighbors=3)\n",
    "trainedknn=knn.fit(x_train,y_train)\n",
    "\n",
    "#training data using SVC\n",
    "svc=SVC()\n",
    "trainedsvc=svc.fit(x_train,y_train)\n",
    "\n",
    "#testing with Decisiontree\n",
    "output1=traineddsc.predict(x_test)\n",
    "print(output1)\n",
    "\n",
    "#accuracy with Decisiontree\n",
    "acc1=accuracy_score(output1,y_test)\n",
    "print('accuracy:',acc1)\n",
    "\n",
    "#testing with knn\n",
    "output=trainedknn.predict(x_test)\n",
    "print(output)\n",
    "\n",
    "#accuracy with Knn\n",
    "acc=accuracy_score(output,y_test)\n",
    "print('accuracy:',acc)\n",
    "\n",
    "#testing with SVC\n",
    "output2=trainedsvc.predict(x_test)\n",
    "print(output2)\n",
    "\n",
    "#accuracy with SVC\n",
    "acc2=accuracy_score(output2,y_test)\n",
    "print('accuracy:',acc2)\n",
    "\n",
    "#plotting graph\n",
    "py.xlabel('Algorithms')\n",
    "py.ylabel('Percentage')\n",
    "algo=['DsT','KNN','SVC']\n",
    "accuracy_percent=[acc1,acc,acc2]\n",
    "py.bar(algo,accuracy_percent,color='b')\n",
    "py.show()"
   ]
  },
  {
   "cell_type": "code",
   "execution_count": null,
   "metadata": {},
   "outputs": [],
   "source": []
  },
  {
   "cell_type": "code",
   "execution_count": null,
   "metadata": {},
   "outputs": [],
   "source": []
  }
 ],
 "metadata": {
  "kernelspec": {
   "display_name": "Python 3",
   "language": "python",
   "name": "python3"
  },
  "language_info": {
   "codemirror_mode": {
    "name": "ipython",
    "version": 3
   },
   "file_extension": ".py",
   "mimetype": "text/x-python",
   "name": "python",
   "nbconvert_exporter": "python",
   "pygments_lexer": "ipython3",
   "version": "3.6.5"
  }
 },
 "nbformat": 4,
 "nbformat_minor": 2
}
