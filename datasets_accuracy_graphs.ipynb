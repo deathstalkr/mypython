{
 "cells": [
  {
   "cell_type": "code",
   "execution_count": 70,
   "metadata": {},
   "outputs": [],
   "source": [
    "from  sklearn  import  tree\n",
    "from sklearn.neighbors import KNeighborsClassifier\n",
    "from sklearn.metrics import accuracy_score\n",
    "from  sklearn  import  tree\n",
    "import numpy as ny\n",
    "from   sklearn.model_selection  import  train_test_split\n",
    "import matplotlib.pyplot as py  \n",
    "from sklearn.svm import SVC"
   ]
  },
  {
   "cell_type": "code",
   "execution_count": 79,
   "metadata": {},
   "outputs": [
    {
     "name": "stdout",
     "output_type": "stream",
     "text": [
      "[1 1 2 0 2 0 0 2 2 2 2 1 1 1 0]\n",
      "accuracy: 1.0\n",
      "[1 1 2 0 2 0 0 2 2 2 2 1 1 1 0]\n",
      "accuracy: 1.0\n",
      "[1 1 2 0 2 0 0 2 2 2 2 1 1 1 0]\n",
      "accuracy: 1.0\n"
     ]
    },
    {
     "data": {
      "image/png": "[encoded data removed]",
      "text/plain": [
       "<Figure size 432x288 with 1 Axes>"
      ]
     },
     "metadata": {},
     "output_type": "display_data"
    }
   ],
   "source": [
    "from sklearn.datasets  import load_iris\n",
    "\n",
    "#loading iris\n",
    "iris=load_iris()\n",
    "\n",
    "train_data,test_data,train_target,test_target=train_test_split(iris.data,iris.target,test_size=0.1)\n",
    "\n",
    "#  calling  decisiontree\n",
    "clf=tree.DecisionTreeClassifier()\n",
    "trained=clf.fit(train_data,train_target)\n",
    "\n",
    "#calling knn\n",
    "clfknn=KNeighborsClassifier(n_neighbors=3)\n",
    "trained1=clfknn.fit(train_data,train_target)\n",
    "\n",
    "#calling SVC\n",
    "clfsvc=SVC()\n",
    "trained2=clfsvc.fit(train_data,train_target)\n",
    "\n",
    "#  testing with decision tree\n",
    "predict=trained.predict(test_data)\n",
    "print(predict)\n",
    "#print(test_target)\n",
    "\n",
    "# accuracy test for dsct\n",
    "pct=accuracy_score(test_target,predict)\n",
    "print('accuracy:',pct)\n",
    "\n",
    "#testing with knn\n",
    "predict1=trained1.predict(test_data)\n",
    "print(predict1)\n",
    "\n",
    "#accuracy test for knn\n",
    "acc=accuracy_score(test_target,predict1)\n",
    "print('accuracy:',acc)\n",
    "\n",
    "#testing with SVC\n",
    "predict2=trained2.predict(test_data)\n",
    "print(predict2)\n",
    "\n",
    "#accuracy test for SVC\n",
    "acc1=accuracy_score(test_target,predict2)\n",
    "print('accuracy:',acc1)\n",
    "\n",
    "#to load structure of decisionTree\n",
    "tree.export_graphviz(clf, out_file=\"tree.dot\", max_depth=7, feature_names=iris.feature_names, class_names=iris.target_names, filled=True,rounded=True)\n",
    "\n",
    "#plotting graph\n",
    "py.xlabel('Algorithms')\n",
    "py.ylabel('Percentage')\n",
    "algo=['DsT','KNN','SVC']\n",
    "accuracy_percent=[pct,acc,acc1]\n",
    "py.scatter(algo,accuracy_percent,color='r',s=100,marker='x')\n",
    "py.show()"
   ]
  },
  {
   "cell_type": "code",
   "execution_count": 80,
   "metadata": {},
   "outputs": [
    {
     "name": "stdout",
     "output_type": "stream",
     "text": [
      "[1 0 1 1 0 0 1 1 1 1 1 1 0 0 1 1 0 0 0 0 0 0 1 0 1 0 1 0 0 1 0 1 1 0 1 1 1\n",
      " 0 1 1 1 0 1 0 1 1 1 1 1 1 1 0 1 1 1 0 1]\n",
      "accuracy: 0.9298245614035088\n",
      "[1 0 1 1 0 0 1 1 1 1 1 1 1 0 1 1 0 1 0 0 0 0 1 0 1 0 0 0 0 1 1 1 1 0 1 1 1\n",
      " 0 1 1 0 0 1 0 1 1 1 1 1 1 1 0 1 1 0 0 0]\n",
      "accuracy: 0.9122807017543859\n",
      "[1 1 1 1 1 1 1 1 1 1 1 1 1 1 1 1 1 1 1 1 1 1 1 1 1 1 1 1 1 1 1 1 1 1 1 1 1\n",
      " 1 1 1 1 1 1 1 1 1 1 1 1 1 1 1 1 1 1 1 1]\n",
      "accuracy: 0.6140350877192983\n"
     ]
    },
    {
     "data": {
      "image/png": "[encoded data removed]",
      "text/plain": [
       "<Figure size 432x288 with 1 Axes>"
      ]
     },
     "metadata": {},
     "output_type": "display_data"
    }
   ],
   "source": [
    "from sklearn.datasets import load_breast_cancer\n",
    "\n",
    "cancer=load_breast_cancer()\n",
    "#splitting data\n",
    "x_train,x_test,y_train,y_test=train_test_split(cancer.data,cancer.target,test_size=0.1)\n",
    "\n",
    "#training data using Decisiontree\n",
    "dsc=tree.DecisionTreeClassifier()\n",
    "traineddsc=dsc.fit(x_train,y_train)\n",
    "\n",
    "#training data using knn\n",
    "knn =KNeighborsClassifier(n_neighbors=3)\n",
    "trainedknn=knn.fit(x_train,y_train)\n",
    "\n",
    "#training data using SVC\n",
    "svc=SVC()\n",
    "trainedsvc=svc.fit(x_train,y_train)\n",
    "\n",
    "#testing with Decisiontree\n",
    "output1=traineddsc.predict(x_test)\n",
    "print(output1)\n",
    "\n",
    "#accuracy with Decisiontree\n",
    "acc1=accuracy_score(output1,y_test)\n",
    "print('accuracy:',acc1)\n",
    "\n",
    "#testing with knn\n",
    "output=trainedknn.predict(x_test)\n",
    "print(output)\n",
    "\n",
    "#accuracy with Knn\n",
    "acc=accuracy_score(output,y_test)\n",
    "print('accuracy:',acc)\n",
    "\n",
    "#testing with SVC\n",
    "output2=trainedsvc.predict(x_test)\n",
    "print(output2)\n",
    "\n",
    "#accuracy with SVC\n",
    "acc2=accuracy_score(output2,y_test)\n",
    "print('accuracy:',acc2)\n",
    "\n",
    "#plotting graph\n",
    "py.xlabel('Algorithms')\n",
    "py.ylabel('Percentage')\n",
    "algo=['DsT','KNN','SVC']\n",
    "accuracy_percent=[acc1,acc,acc2]\n",
    "py.scatter(algo,accuracy_percent,color='r',s=100,marker='x')\n",
    "py.show()"
   ]
  },
  {
   "cell_type": "code",
   "execution_count": 81,
   "metadata": {},
   "outputs": [
    {
     "name": "stdout",
     "output_type": "stream",
     "text": [
      "[5]\n",
      "accuracy: 1.0\n",
      "[5]\n",
      "accuracy: 1.0\n",
      "[5]\n",
      "accuracy: 1.0\n"
     ]
    },
    {
     "data": {
      "image/png": "[encoded data removed]",
      "text/plain": [
       "<Figure size 432x288 with 1 Axes>"
      ]
     },
     "metadata": {},
     "output_type": "display_data"
    },
    {
     "data": {
      "image/png": "[encoded data removed]",
      "text/plain": [
       "<Figure size 432x288 with 1 Axes>"
      ]
     },
     "metadata": {},
     "output_type": "display_data"
    }
   ],
   "source": [
    "from sklearn.datasets  import load_digits\n",
    "\n",
    "digits=load_digits()\n",
    "\n",
    "#splitting data\n",
    "\n",
    "train_data=ny.delete(digits.data,-1,axis=0)\n",
    "train_target=ny.delete(digits.target,-1)\n",
    "test_target=(digits.target[-10].reshape(1,))  #print(test_target.shape)\n",
    "\n",
    "#training data using support vector\n",
    "clf=SVC()\n",
    "trained=clf.fit(train_data,train_target)\n",
    "\n",
    "#training data using decision tree\n",
    "clf1=tree.DecisionTreeClassifier()\n",
    "trained1=clf1.fit(train_data,train_target)\n",
    "\n",
    "#training using knn\n",
    "clf2=KNeighborsClassifier(n_neighbors=3)\n",
    "trained2=clf2.fit(train_data,train_target)\n",
    "\n",
    "#testing for SVC\n",
    "output=trained.predict(digits.data[-10].reshape(1,64))\n",
    "print(output)\n",
    "\n",
    "#accuracy test for SVC\n",
    "acc=accuracy_score(output,test_target)\n",
    "print('accuracy:',acc)\n",
    "\n",
    "#testing decision tree data\n",
    "output1=trained1.predict(digits.data[-10].reshape(1,64))\n",
    "print(output1)\n",
    "\n",
    "#accuracy test for decision tree\n",
    "acc1=accuracy_score(output1,test_target)\n",
    "print('accuracy:',acc1)\n",
    "\n",
    "#testing knn\n",
    "output2=trained2.predict(digits.data[-10].reshape(1,64))\n",
    "print(output2)\n",
    "\n",
    "#accuracy test for knn\n",
    "acc2=accuracy_score(output2,test_target)\n",
    "print('accuracy:',acc2)\n",
    "\n",
    "#actual output in image\n",
    "py.imshow(digits.images[-10])\n",
    "py.show()\n",
    "\n",
    "#plotting graph\n",
    "py.xlabel('Algorithms')\n",
    "py.ylabel('Percentage')\n",
    "algo=['DsT','KNN','SVC']\n",
    "accuracy_percent=[acc1,acc2,acc]\n",
    "py.scatter(algo,accuracy_percent,color='r',s=100,marker='x')\n",
    "py.show()"
   ]
  },
  {
   "cell_type": "code",
   "execution_count": null,
   "metadata": {},
   "outputs": [],
   "source": []
  },
  {
   "cell_type": "code",
   "execution_count": null,
   "metadata": {},
   "outputs": [],
   "source": []
  },
  {
   "cell_type": "code",
   "execution_count": null,
   "metadata": {},
   "outputs": [],
   "source": []
  },
  {
   "cell_type": "code",
   "execution_count": null,
   "metadata": {},
   "outputs": [],
   "source": []
  }
 ],
 "metadata": {
  "kernelspec": {
   "display_name": "Python 3",
   "language": "python",
   "name": "python3"
  },
  "language_info": {
   "codemirror_mode": {
    "name": "ipython",
    "version": 3
   },
   "file_extension": ".py",
   "mimetype": "text/x-python",
   "name": "python",
   "nbconvert_exporter": "python",
   "pygments_lexer": "ipython3",
   "version": "3.6.5"
  }
 },
 "nbformat": 4,
 "nbformat_minor": 2
}
